{
 "cells": [
  {
   "cell_type": "code",
   "execution_count": 1,
   "id": "a67e9f3e-4e99-4c4b-aa6d-9252ee996241",
   "metadata": {},
   "outputs": [
    {
     "name": "stderr",
     "output_type": "stream",
     "text": [
      "/opt/homebrew/Cellar/jupyterlab/4.4.0/libexec/lib/python3.13/site-packages/tqdm/auto.py:21: TqdmWarning: IProgress not found. Please update jupyter and ipywidgets. See https://ipywidgets.readthedocs.io/en/stable/user_install.html\n",
      "  from .autonotebook import tqdm as notebook_tqdm\n"
     ]
    }
   ],
   "source": [
    "from datasets import load_dataset\n",
    "from datasets import load_dataset\n",
    "from transformers import CLIPProcessor, CLIPModel, BlipProcessor, BlipForConditionalGeneration\n",
    "import torch\n",
    "import json\n",
    "from tqdm import tqdm\n",
    "\n",
    "dataset = load_dataset(\"huggan/wikiart\", split=\"train\")"
   ]
  },
  {
   "cell_type": "code",
   "execution_count": 3,
   "id": "8a3a6d77-28f8-4e60-981a-087ea0cbd57b",
   "metadata": {},
   "outputs": [],
   "source": [
    "device = \"mps\" if torch.backends.mps.is_available() else \"cpu\""
   ]
  },
  {
   "cell_type": "code",
   "execution_count": 4,
   "id": "01af7297-293f-4d4d-ad18-49ba5ab91e02",
   "metadata": {},
   "outputs": [
    {
     "name": "stderr",
     "output_type": "stream",
     "text": [
      "Using a slow image processor as `use_fast` is unset and a slow processor was saved with this model. `use_fast=True` will be the default behavior in v4.52, even if the model was saved with a slow processor. This will result in minor differences in outputs. You'll still be able to use a slow processor with `use_fast=False`.\n"
     ]
    }
   ],
   "source": [
    "clip_model = CLIPModel.from_pretrained(\"openai/clip-vit-base-patch32\").to(device)\n",
    "clip_processor = CLIPProcessor.from_pretrained(\"openai/clip-vit-base-patch32\")\n",
    "\n",
    "blip_processor = BlipProcessor.from_pretrained(\"Salesforce/blip-image-captioning-base\")\n",
    "blip_model = BlipForConditionalGeneration.from_pretrained(\"Salesforce/blip-image-captioning-base\").to(device)\n",
    "\n",
    "results = []"
   ]
  },
  {
   "cell_type": "code",
   "execution_count": null,
   "id": "04bb2755-8ddd-4eed-9267-3ba7e4370f9b",
   "metadata": {},
   "outputs": [],
   "source": [
    "for idx in tqdm(range(len(dataset))):\n",
    "    sample = dataset[idx]\n",
    "    image = sample[\"image\"]\n",
    "\n",
    "    # С помощью CLIP получаем эмбеддинги изображений \n",
    "    inputs = clip_processor(images=image, return_tensors=\"pt\").to(device)\n",
    "    with torch.no_grad():\n",
    "        image_features = clip_model.get_image_features(**inputs)\n",
    "    image_code = image_features.squeeze().cpu().tolist()\n",
    "\n",
    "    # С помощью BLIP получаем тестовое описание к изображениям\n",
    "    blip_inputs = blip_processor(images=image, return_tensors=\"pt\").to(device)\n",
    "    with torch.no_grad():\n",
    "        caption_ids = blip_model.generate(**blip_inputs)\n",
    "    caption = blip_processor.batch_decode(caption_ids, skip_special_tokens=True)[0]\n",
    "\n",
    "    # Снова используя CLIP получаем эмбеддинги текскового описания\n",
    "    text_inputs = clip_processor(text=[caption], return_tensors=\"pt\").to(device)\n",
    "    with torch.no_grad():\n",
    "        text_features = clip_model.get_text_features(**text_inputs)\n",
    "    text_code = text_features.squeeze().cpu().tolist()\n",
    "\n",
    "    entry = {\n",
    "        \"id\": idx,\n",
    "        \"image_code\": image_code,\n",
    "        \"caption\": caption,\n",
    "        \"text_code\": text_code,\n",
    "        \"artist\": sample[\"artist\"],\n",
    "        \"genre\": sample[\"genre\"],\n",
    "        \"style\": sample[\"style\"]\n",
    "    }\n",
    "    results.append(entry)\n",
    "\n",
    "with open(\"wikiart_embeddings.json\", \"w\") as f:\n",
    "    json.dump(results, f, indent=2)\n"
   ]
  },
  {
   "cell_type": "code",
   "execution_count": null,
   "id": "935b86a6-89f3-4ff6-abc6-4a5e61f1d385",
   "metadata": {},
   "outputs": [],
   "source": []
  }
 ],
 "metadata": {
  "kernelspec": {
   "display_name": "Python 3 (ipykernel)",
   "language": "python",
   "name": "python3"
  },
  "language_info": {
   "codemirror_mode": {
    "name": "ipython",
    "version": 3
   },
   "file_extension": ".py",
   "mimetype": "text/x-python",
   "name": "python",
   "nbconvert_exporter": "python",
   "pygments_lexer": "ipython3",
   "version": "3.13.3"
  }
 },
 "nbformat": 4,
 "nbformat_minor": 5
}
