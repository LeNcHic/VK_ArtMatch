{
 "cells": [
  {
   "cell_type": "code",
   "execution_count": 1,
   "id": "022412db-6cd8-4d04-b090-2938fa9cdd68",
   "metadata": {},
   "outputs": [],
   "source": [
    "import json\n",
    "import numpy as np\n",
    "import faiss\n",
    "\n",
    "with open('../create_embeddings/wikiart_embeddings.json', 'r') as f:\n",
    "    data = json.load(f)"
   ]
  },
  {
   "cell_type": "code",
   "execution_count": 2,
   "id": "dd011e67-4fac-4419-b931-6191a73f9663",
   "metadata": {},
   "outputs": [],
   "source": [
    "image_embeddings = []\n",
    "text_embeddings = []\n",
    "\n",
    "for item in data:\n",
    "    image_embeddings.append(item['image_code'])\n",
    "    text_embeddings.append(item['text_code'])\n",
    "\n",
    "image_embeddings = np.array(image_embeddings).astype('float32')\n",
    "text_embeddings = np.array(text_embeddings).astype('float32')"
   ]
  },
  {
   "cell_type": "code",
   "execution_count": 3,
   "id": "901b6abc-609a-4075-8f0b-8cd14366bffc",
   "metadata": {},
   "outputs": [],
   "source": [
    "# Нормализуем эмбеддинги\n",
    "faiss.normalize_L2(image_embeddings)\n",
    "faiss.normalize_L2(text_embeddings)\n",
    "\n",
    "# Спроим индексы на основе косинусного сходства через скалярное произведение.\n",
    "image_index = faiss.IndexFlatIP(image_embeddings.shape[1]) \n",
    "text_index = faiss.IndexFlatIP(text_embeddings.shape[1])\n",
    "\n",
    "image_index.add(image_embeddings)\n",
    "text_index.add(text_embeddings)\n",
    "\n",
    "faiss.write_index(image_index, \"image_index.faiss\")\n",
    "faiss.write_index(text_index, \"text_index.faiss\")"
   ]
  },
  {
   "cell_type": "code",
   "execution_count": null,
   "id": "2220bbde-42cb-4f5e-b01b-0e2a988cdb6b",
   "metadata": {},
   "outputs": [],
   "source": []
  }
 ],
 "metadata": {
  "kernelspec": {
   "display_name": "Python 3 (ipykernel)",
   "language": "python",
   "name": "python3"
  },
  "language_info": {
   "codemirror_mode": {
    "name": "ipython",
    "version": 3
   },
   "file_extension": ".py",
   "mimetype": "text/x-python",
   "name": "python",
   "nbconvert_exporter": "python",
   "pygments_lexer": "ipython3",
   "version": "3.13.3"
  }
 },
 "nbformat": 4,
 "nbformat_minor": 5
}
